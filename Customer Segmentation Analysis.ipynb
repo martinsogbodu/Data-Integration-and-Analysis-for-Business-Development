{
 "cells": [
  {
   "cell_type": "code",
   "execution_count": null,
   "id": "3e2cf3ce-bda3-4fae-b540-3834e5d10cba",
   "metadata": {},
   "outputs": [],
   "source": [
    "from pyspark.sql.functions import datediff, current_date\n",
    "\n",
    "# Calculate Recency, Frequency, and Monetary values\n",
    "rfm_df = df.groupBy('CustomerID').agg(\n",
    "    datediff(current_date(), max('InvoiceDate')).alias('Recency'),\n",
    "    count('InvoiceNo').alias('Frequency'),\n",
    "    sum(col('Quantity') * col('UnitPrice')).alias('Monetary')\n",
    ")\n",
    "\n",
    "# Show the RFM values\n",
    "rfm_df.show()\n"
   ]
  }
 ],
 "metadata": {
  "kernelspec": {
   "display_name": "Python 3 (ipykernel)",
   "language": "python",
   "name": "python3"
  },
  "language_info": {
   "codemirror_mode": {
    "name": "ipython",
    "version": 3
   },
   "file_extension": ".py",
   "mimetype": "text/x-python",
   "name": "python",
   "nbconvert_exporter": "python",
   "pygments_lexer": "ipython3",
   "version": "3.12.3"
  }
 },
 "nbformat": 4,
 "nbformat_minor": 5
}
